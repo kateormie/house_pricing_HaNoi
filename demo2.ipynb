{
 "cells": [
  {
   "cell_type": "code",
   "execution_count": 141,
   "metadata": {},
   "outputs": [],
   "source": [
    "import numpy as np # linear algebra\n",
    "import pandas as pd # data processing, CSV file I/O (e.g. pd.read_csv)\n",
    "import matplotlib.pyplot as plt\n",
    "plt.style.use('bmh')\n",
    "import seaborn as sns\n",
    "from sklearn.impute import SimpleImputer\n",
    "from sklearn.model_selection import train_test_split,StratifiedKFold,GridSearchCV\n",
    "from sklearn.linear_model import LinearRegression\n",
    "from sklearn.tree import DecisionTreeRegressor\n",
    "from sklearn.ensemble import RandomForestRegressor, AdaBoostRegressor\n",
    "from sklearn.svm import SVR\n",
    "from xgboost import XGBRegressor\n",
    "from sklearn.preprocessing import StandardScaler, MinMaxScaler\n",
    "from sklearn.metrics import mean_squared_error , r2_score\n",
    "from sklearn.decomposition import PCA\n",
    "from sklearn.metrics import mean_squared_log_error\n",
    "from sklearn.preprocessing import OneHotEncoder\n",
    "import time"
   ]
  },
  {
   "cell_type": "code",
   "execution_count": 142,
   "metadata": {},
   "outputs": [],
   "source": [
    "x=pd.read_csv('data.csv',index_col='ID')"
   ]
  },
  {
   "cell_type": "code",
   "execution_count": 143,
   "metadata": {},
   "outputs": [],
   "source": [
    "x['Loại hình nhà ở'] = x['Loại hình nhà ở'].map({'Nhà mặt phố, mặt tiền':2,'Nhà ngõ, hẻm':0,'Nhà phố liền kề':1,'Nhà biệt thự':3})\n",
    "x['Giấy tờ pháp lý'] = x['Giấy tờ pháp lý'].map({'Đã có sổ':2,'Giấy tờ khác':0,'Đang chờ sổ':1})"
   ]
  },
  {
   "cell_type": "code",
   "execution_count": 144,
   "metadata": {},
   "outputs": [
    {
     "name": "stdout",
     "output_type": "stream",
     "text": [
      "DataFrame Shape :\n"
     ]
    },
    {
     "data": {
      "text/plain": [
       "(53219, 7)"
      ]
     },
     "metadata": {},
     "output_type": "display_data"
    },
    {
     "name": "stdout",
     "output_type": "stream",
     "text": [
      "DataFrame examples : \n",
      "\n"
     ]
    },
    {
     "data": {
      "text/html": [
       "<div>\n",
       "<style scoped>\n",
       "    .dataframe tbody tr th:only-of-type {\n",
       "        vertical-align: middle;\n",
       "    }\n",
       "\n",
       "    .dataframe tbody tr th {\n",
       "        vertical-align: top;\n",
       "    }\n",
       "\n",
       "    .dataframe thead th {\n",
       "        text-align: right;\n",
       "    }\n",
       "</style>\n",
       "<table border=\"1\" class=\"dataframe\">\n",
       "  <thead>\n",
       "    <tr style=\"text-align: right;\">\n",
       "      <th></th>\n",
       "      <th>Giá</th>\n",
       "      <th>Quận</th>\n",
       "      <th>Phường</th>\n",
       "      <th>Loại hình nhà ở</th>\n",
       "      <th>Giấy tờ pháp lý</th>\n",
       "      <th>Số phòng ngủ</th>\n",
       "      <th>Diện tích</th>\n",
       "    </tr>\n",
       "    <tr>\n",
       "      <th>ID</th>\n",
       "      <th></th>\n",
       "      <th></th>\n",
       "      <th></th>\n",
       "      <th></th>\n",
       "      <th></th>\n",
       "      <th></th>\n",
       "      <th></th>\n",
       "    </tr>\n",
       "  </thead>\n",
       "  <tbody>\n",
       "    <tr>\n",
       "      <th>1</th>\n",
       "      <td>28.344</td>\n",
       "      <td>Huyện Ba Vì</td>\n",
       "      <td>Xã Phú Sơn</td>\n",
       "      <td>2</td>\n",
       "      <td>2</td>\n",
       "      <td>2</td>\n",
       "      <td>882.0</td>\n",
       "    </tr>\n",
       "    <tr>\n",
       "      <th>2</th>\n",
       "      <td>12.000</td>\n",
       "      <td>Huyện Chương Mỹ</td>\n",
       "      <td>Thị trấn Chúc Sơn</td>\n",
       "      <td>2</td>\n",
       "      <td>2</td>\n",
       "      <td>2</td>\n",
       "      <td>68.0</td>\n",
       "    </tr>\n",
       "    <tr>\n",
       "      <th>3</th>\n",
       "      <td>14.000</td>\n",
       "      <td>Huyện Chương Mỹ</td>\n",
       "      <td>Thị trấn Chúc Sơn</td>\n",
       "      <td>2</td>\n",
       "      <td>2</td>\n",
       "      <td>1</td>\n",
       "      <td>200.0</td>\n",
       "    </tr>\n",
       "    <tr>\n",
       "      <th>4</th>\n",
       "      <td>15.000</td>\n",
       "      <td>Huyện Chương Mỹ</td>\n",
       "      <td>Xã Phụng Châu</td>\n",
       "      <td>0</td>\n",
       "      <td>2</td>\n",
       "      <td>2</td>\n",
       "      <td>46.0</td>\n",
       "    </tr>\n",
       "    <tr>\n",
       "      <th>5</th>\n",
       "      <td>15.000</td>\n",
       "      <td>Huyện Chương Mỹ</td>\n",
       "      <td>Xã Phụng Châu</td>\n",
       "      <td>0</td>\n",
       "      <td>2</td>\n",
       "      <td>2</td>\n",
       "      <td>46.0</td>\n",
       "    </tr>\n",
       "  </tbody>\n",
       "</table>\n",
       "</div>"
      ],
      "text/plain": [
       "       Giá             Quận             Phường  Loại hình nhà ở  \\\n",
       "ID                                                                \n",
       "1   28.344      Huyện Ba Vì         Xã Phú Sơn                2   \n",
       "2   12.000  Huyện Chương Mỹ  Thị trấn Chúc Sơn                2   \n",
       "3   14.000  Huyện Chương Mỹ  Thị trấn Chúc Sơn                2   \n",
       "4   15.000  Huyện Chương Mỹ      Xã Phụng Châu                0   \n",
       "5   15.000  Huyện Chương Mỹ      Xã Phụng Châu                0   \n",
       "\n",
       "    Giấy tờ pháp lý  Số phòng ngủ  Diện tích  \n",
       "ID                                            \n",
       "1                 2             2      882.0  \n",
       "2                 2             2       68.0  \n",
       "3                 2             1      200.0  \n",
       "4                 2             2       46.0  \n",
       "5                 2             2       46.0  "
      ]
     },
     "metadata": {},
     "output_type": "display_data"
    },
    {
     "name": "stdout",
     "output_type": "stream",
     "text": [
      "information about Dataset\n",
      "<class 'pandas.core.frame.DataFrame'>\n",
      "Int64Index: 53219 entries, 1 to 53219\n",
      "Data columns (total 7 columns):\n",
      " #   Column           Non-Null Count  Dtype  \n",
      "---  ------           --------------  -----  \n",
      " 0   Giá              53219 non-null  float64\n",
      " 1   Quận             53219 non-null  object \n",
      " 2   Phường           53219 non-null  object \n",
      " 3   Loại hình nhà ở  53219 non-null  int64  \n",
      " 4   Giấy tờ pháp lý  53219 non-null  int64  \n",
      " 5   Số phòng ngủ     53219 non-null  int64  \n",
      " 6   Diện tích        53219 non-null  float64\n",
      "dtypes: float64(2), int64(3), object(2)\n",
      "memory usage: 3.2+ MB\n"
     ]
    },
    {
     "data": {
      "text/plain": [
       "None"
      ]
     },
     "metadata": {},
     "output_type": "display_data"
    },
    {
     "name": "stdout",
     "output_type": "stream",
     "text": [
      "DataFrame Description : \n",
      "\n"
     ]
    },
    {
     "data": {
      "text/html": [
       "<div>\n",
       "<style scoped>\n",
       "    .dataframe tbody tr th:only-of-type {\n",
       "        vertical-align: middle;\n",
       "    }\n",
       "\n",
       "    .dataframe tbody tr th {\n",
       "        vertical-align: top;\n",
       "    }\n",
       "\n",
       "    .dataframe thead th {\n",
       "        text-align: right;\n",
       "    }\n",
       "</style>\n",
       "<table border=\"1\" class=\"dataframe\">\n",
       "  <thead>\n",
       "    <tr style=\"text-align: right;\">\n",
       "      <th></th>\n",
       "      <th>count</th>\n",
       "      <th>mean</th>\n",
       "      <th>std</th>\n",
       "      <th>min</th>\n",
       "      <th>25%</th>\n",
       "      <th>50%</th>\n",
       "      <th>75%</th>\n",
       "      <th>max</th>\n",
       "    </tr>\n",
       "  </thead>\n",
       "  <tbody>\n",
       "    <tr>\n",
       "      <th>Giá</th>\n",
       "      <td>53219.0</td>\n",
       "      <td>104.201228</td>\n",
       "      <td>78.848058</td>\n",
       "      <td>11.0</td>\n",
       "      <td>72.0</td>\n",
       "      <td>89.0</td>\n",
       "      <td>111.0</td>\n",
       "      <td>2000.0</td>\n",
       "    </tr>\n",
       "    <tr>\n",
       "      <th>Loại hình nhà ở</th>\n",
       "      <td>53219.0</td>\n",
       "      <td>0.492381</td>\n",
       "      <td>0.869103</td>\n",
       "      <td>0.0</td>\n",
       "      <td>0.0</td>\n",
       "      <td>0.0</td>\n",
       "      <td>1.0</td>\n",
       "      <td>3.0</td>\n",
       "    </tr>\n",
       "    <tr>\n",
       "      <th>Giấy tờ pháp lý</th>\n",
       "      <td>53219.0</td>\n",
       "      <td>1.980909</td>\n",
       "      <td>0.176859</td>\n",
       "      <td>0.0</td>\n",
       "      <td>2.0</td>\n",
       "      <td>2.0</td>\n",
       "      <td>2.0</td>\n",
       "      <td>2.0</td>\n",
       "    </tr>\n",
       "    <tr>\n",
       "      <th>Số phòng ngủ</th>\n",
       "      <td>53219.0</td>\n",
       "      <td>3.872564</td>\n",
       "      <td>1.514085</td>\n",
       "      <td>1.0</td>\n",
       "      <td>3.0</td>\n",
       "      <td>4.0</td>\n",
       "      <td>4.0</td>\n",
       "      <td>11.0</td>\n",
       "    </tr>\n",
       "    <tr>\n",
       "      <th>Diện tích</th>\n",
       "      <td>53219.0</td>\n",
       "      <td>46.825876</td>\n",
       "      <td>30.128599</td>\n",
       "      <td>9.0</td>\n",
       "      <td>34.0</td>\n",
       "      <td>40.0</td>\n",
       "      <td>50.0</td>\n",
       "      <td>1378.0</td>\n",
       "    </tr>\n",
       "  </tbody>\n",
       "</table>\n",
       "</div>"
      ],
      "text/plain": [
       "                   count        mean        std   min   25%   50%    75%  \\\n",
       "Giá              53219.0  104.201228  78.848058  11.0  72.0  89.0  111.0   \n",
       "Loại hình nhà ở  53219.0    0.492381   0.869103   0.0   0.0   0.0    1.0   \n",
       "Giấy tờ pháp lý  53219.0    1.980909   0.176859   0.0   2.0   2.0    2.0   \n",
       "Số phòng ngủ     53219.0    3.872564   1.514085   1.0   3.0   4.0    4.0   \n",
       "Diện tích        53219.0   46.825876  30.128599   9.0  34.0  40.0   50.0   \n",
       "\n",
       "                    max  \n",
       "Giá              2000.0  \n",
       "Loại hình nhà ở     3.0  \n",
       "Giấy tờ pháp lý     2.0  \n",
       "Số phòng ngủ       11.0  \n",
       "Diện tích        1378.0  "
      ]
     },
     "metadata": {},
     "output_type": "display_data"
    }
   ],
   "source": [
    "def Explore(df):\n",
    "        print('DataFrame Shape :')\n",
    "        display(df.shape)\n",
    "        print('DataFrame examples : \\n')\n",
    "        display(df.head())\n",
    "        print(\"information about Dataset\")\n",
    "        display(df.info())\n",
    "        print('DataFrame Description : \\n')\n",
    "        display(df.describe().T)\n",
    "\n",
    "Explore(x)"
   ]
  },
  {
   "cell_type": "code",
   "execution_count": 145,
   "metadata": {},
   "outputs": [],
   "source": [
    "from sklearn import preprocessing\n",
    "from sklearn.preprocessing import LabelEncoder\n",
    "df1 = pd.DataFrame({'Quận':x['Quận']})\n",
    "df2 = pd.DataFrame({'Phường':x['Phường']})\n",
    "le = preprocessing.LabelEncoder()\n",
    "df1['Quận_encoded'] = le.fit_transform(x['Quận'])\n",
    "df2['Phường_encoded'] = le.fit_transform(x['Phường'])"
   ]
  },
  {
   "cell_type": "code",
   "execution_count": 146,
   "metadata": {},
   "outputs": [],
   "source": [
    "x['Quận'] = df1.loc[:,'Quận_encoded']\n",
    "x['Phường'] = df2.loc[:,'Phường_encoded']"
   ]
  },
  {
   "cell_type": "code",
   "execution_count": 147,
   "metadata": {},
   "outputs": [
    {
     "name": "stdout",
     "output_type": "stream",
     "text": [
      "DataFrame Shape : \n",
      "\n"
     ]
    },
    {
     "data": {
      "text/plain": [
       "(53219, 7)"
      ]
     },
     "metadata": {},
     "output_type": "display_data"
    },
    {
     "name": "stdout",
     "output_type": "stream",
     "text": [
      "DataFrame examples : \n",
      "\n"
     ]
    },
    {
     "data": {
      "text/html": [
       "<div>\n",
       "<style scoped>\n",
       "    .dataframe tbody tr th:only-of-type {\n",
       "        vertical-align: middle;\n",
       "    }\n",
       "\n",
       "    .dataframe tbody tr th {\n",
       "        vertical-align: top;\n",
       "    }\n",
       "\n",
       "    .dataframe thead th {\n",
       "        text-align: right;\n",
       "    }\n",
       "</style>\n",
       "<table border=\"1\" class=\"dataframe\">\n",
       "  <thead>\n",
       "    <tr style=\"text-align: right;\">\n",
       "      <th></th>\n",
       "      <th>Giá</th>\n",
       "      <th>Quận</th>\n",
       "      <th>Phường</th>\n",
       "      <th>Loại hình nhà ở</th>\n",
       "      <th>Giấy tờ pháp lý</th>\n",
       "      <th>Số phòng ngủ</th>\n",
       "      <th>Diện tích</th>\n",
       "    </tr>\n",
       "    <tr>\n",
       "      <th>ID</th>\n",
       "      <th></th>\n",
       "      <th></th>\n",
       "      <th></th>\n",
       "      <th></th>\n",
       "      <th></th>\n",
       "      <th></th>\n",
       "      <th></th>\n",
       "    </tr>\n",
       "  </thead>\n",
       "  <tbody>\n",
       "    <tr>\n",
       "      <th>1</th>\n",
       "      <td>28.344</td>\n",
       "      <td>0</td>\n",
       "      <td>229</td>\n",
       "      <td>2</td>\n",
       "      <td>2</td>\n",
       "      <td>2</td>\n",
       "      <td>882.0</td>\n",
       "    </tr>\n",
       "    <tr>\n",
       "      <th>2</th>\n",
       "      <td>12.000</td>\n",
       "      <td>1</td>\n",
       "      <td>169</td>\n",
       "      <td>2</td>\n",
       "      <td>2</td>\n",
       "      <td>2</td>\n",
       "      <td>68.0</td>\n",
       "    </tr>\n",
       "    <tr>\n",
       "      <th>3</th>\n",
       "      <td>14.000</td>\n",
       "      <td>1</td>\n",
       "      <td>169</td>\n",
       "      <td>2</td>\n",
       "      <td>2</td>\n",
       "      <td>1</td>\n",
       "      <td>200.0</td>\n",
       "    </tr>\n",
       "    <tr>\n",
       "      <th>4</th>\n",
       "      <td>15.000</td>\n",
       "      <td>1</td>\n",
       "      <td>232</td>\n",
       "      <td>0</td>\n",
       "      <td>2</td>\n",
       "      <td>2</td>\n",
       "      <td>46.0</td>\n",
       "    </tr>\n",
       "    <tr>\n",
       "      <th>5</th>\n",
       "      <td>15.000</td>\n",
       "      <td>1</td>\n",
       "      <td>232</td>\n",
       "      <td>0</td>\n",
       "      <td>2</td>\n",
       "      <td>2</td>\n",
       "      <td>46.0</td>\n",
       "    </tr>\n",
       "  </tbody>\n",
       "</table>\n",
       "</div>"
      ],
      "text/plain": [
       "       Giá  Quận  Phường  Loại hình nhà ở  Giấy tờ pháp lý  Số phòng ngủ  \\\n",
       "ID                                                                         \n",
       "1   28.344     0     229                2                2             2   \n",
       "2   12.000     1     169                2                2             2   \n",
       "3   14.000     1     169                2                2             1   \n",
       "4   15.000     1     232                0                2             2   \n",
       "5   15.000     1     232                0                2             2   \n",
       "\n",
       "    Diện tích  \n",
       "ID             \n",
       "1       882.0  \n",
       "2        68.0  \n",
       "3       200.0  \n",
       "4        46.0  \n",
       "5        46.0  "
      ]
     },
     "metadata": {},
     "output_type": "display_data"
    },
    {
     "name": "stdout",
     "output_type": "stream",
     "text": [
      "information about Dataset\n",
      "<class 'pandas.core.frame.DataFrame'>\n",
      "Int64Index: 53219 entries, 1 to 53219\n",
      "Data columns (total 7 columns):\n",
      " #   Column           Non-Null Count  Dtype  \n",
      "---  ------           --------------  -----  \n",
      " 0   Giá              53219 non-null  float64\n",
      " 1   Quận             53219 non-null  int32  \n",
      " 2   Phường           53219 non-null  int32  \n",
      " 3   Loại hình nhà ở  53219 non-null  int64  \n",
      " 4   Giấy tờ pháp lý  53219 non-null  int64  \n",
      " 5   Số phòng ngủ     53219 non-null  int64  \n",
      " 6   Diện tích        53219 non-null  float64\n",
      "dtypes: float64(2), int32(2), int64(3)\n",
      "memory usage: 2.8 MB\n"
     ]
    },
    {
     "data": {
      "text/plain": [
       "None"
      ]
     },
     "metadata": {},
     "output_type": "display_data"
    },
    {
     "name": "stdout",
     "output_type": "stream",
     "text": [
      "DataFrame Description : \n",
      "\n"
     ]
    },
    {
     "data": {
      "text/html": [
       "<div>\n",
       "<style scoped>\n",
       "    .dataframe tbody tr th:only-of-type {\n",
       "        vertical-align: middle;\n",
       "    }\n",
       "\n",
       "    .dataframe tbody tr th {\n",
       "        vertical-align: top;\n",
       "    }\n",
       "\n",
       "    .dataframe thead th {\n",
       "        text-align: right;\n",
       "    }\n",
       "</style>\n",
       "<table border=\"1\" class=\"dataframe\">\n",
       "  <thead>\n",
       "    <tr style=\"text-align: right;\">\n",
       "      <th></th>\n",
       "      <th>count</th>\n",
       "      <th>mean</th>\n",
       "      <th>std</th>\n",
       "      <th>min</th>\n",
       "      <th>25%</th>\n",
       "      <th>50%</th>\n",
       "      <th>75%</th>\n",
       "      <th>max</th>\n",
       "    </tr>\n",
       "  </thead>\n",
       "  <tbody>\n",
       "    <tr>\n",
       "      <th>Giá</th>\n",
       "      <td>53219.0</td>\n",
       "      <td>104.201228</td>\n",
       "      <td>78.848058</td>\n",
       "      <td>11.0</td>\n",
       "      <td>72.0</td>\n",
       "      <td>89.0</td>\n",
       "      <td>111.0</td>\n",
       "      <td>2000.0</td>\n",
       "    </tr>\n",
       "    <tr>\n",
       "      <th>Quận</th>\n",
       "      <td>53219.0</td>\n",
       "      <td>20.836355</td>\n",
       "      <td>4.181437</td>\n",
       "      <td>0.0</td>\n",
       "      <td>18.0</td>\n",
       "      <td>21.0</td>\n",
       "      <td>24.0</td>\n",
       "      <td>27.0</td>\n",
       "    </tr>\n",
       "    <tr>\n",
       "      <th>Phường</th>\n",
       "      <td>53219.0</td>\n",
       "      <td>86.724253</td>\n",
       "      <td>53.852455</td>\n",
       "      <td>0.0</td>\n",
       "      <td>42.0</td>\n",
       "      <td>76.0</td>\n",
       "      <td>132.0</td>\n",
       "      <td>279.0</td>\n",
       "    </tr>\n",
       "    <tr>\n",
       "      <th>Loại hình nhà ở</th>\n",
       "      <td>53219.0</td>\n",
       "      <td>0.492381</td>\n",
       "      <td>0.869103</td>\n",
       "      <td>0.0</td>\n",
       "      <td>0.0</td>\n",
       "      <td>0.0</td>\n",
       "      <td>1.0</td>\n",
       "      <td>3.0</td>\n",
       "    </tr>\n",
       "    <tr>\n",
       "      <th>Giấy tờ pháp lý</th>\n",
       "      <td>53219.0</td>\n",
       "      <td>1.980909</td>\n",
       "      <td>0.176859</td>\n",
       "      <td>0.0</td>\n",
       "      <td>2.0</td>\n",
       "      <td>2.0</td>\n",
       "      <td>2.0</td>\n",
       "      <td>2.0</td>\n",
       "    </tr>\n",
       "    <tr>\n",
       "      <th>Số phòng ngủ</th>\n",
       "      <td>53219.0</td>\n",
       "      <td>3.872564</td>\n",
       "      <td>1.514085</td>\n",
       "      <td>1.0</td>\n",
       "      <td>3.0</td>\n",
       "      <td>4.0</td>\n",
       "      <td>4.0</td>\n",
       "      <td>11.0</td>\n",
       "    </tr>\n",
       "    <tr>\n",
       "      <th>Diện tích</th>\n",
       "      <td>53219.0</td>\n",
       "      <td>46.825876</td>\n",
       "      <td>30.128599</td>\n",
       "      <td>9.0</td>\n",
       "      <td>34.0</td>\n",
       "      <td>40.0</td>\n",
       "      <td>50.0</td>\n",
       "      <td>1378.0</td>\n",
       "    </tr>\n",
       "  </tbody>\n",
       "</table>\n",
       "</div>"
      ],
      "text/plain": [
       "                   count        mean        std   min   25%   50%    75%  \\\n",
       "Giá              53219.0  104.201228  78.848058  11.0  72.0  89.0  111.0   \n",
       "Quận             53219.0   20.836355   4.181437   0.0  18.0  21.0   24.0   \n",
       "Phường           53219.0   86.724253  53.852455   0.0  42.0  76.0  132.0   \n",
       "Loại hình nhà ở  53219.0    0.492381   0.869103   0.0   0.0   0.0    1.0   \n",
       "Giấy tờ pháp lý  53219.0    1.980909   0.176859   0.0   2.0   2.0    2.0   \n",
       "Số phòng ngủ     53219.0    3.872564   1.514085   1.0   3.0   4.0    4.0   \n",
       "Diện tích        53219.0   46.825876  30.128599   9.0  34.0  40.0   50.0   \n",
       "\n",
       "                    max  \n",
       "Giá              2000.0  \n",
       "Quận               27.0  \n",
       "Phường            279.0  \n",
       "Loại hình nhà ở     3.0  \n",
       "Giấy tờ pháp lý     2.0  \n",
       "Số phòng ngủ       11.0  \n",
       "Diện tích        1378.0  "
      ]
     },
     "metadata": {},
     "output_type": "display_data"
    }
   ],
   "source": [
    "def Explore(df):\n",
    "        print('DataFrame Shape : \\n')\n",
    "        display(df.shape)\n",
    "        print('DataFrame examples : \\n')\n",
    "        display(df.head())\n",
    "        print(\"information about Dataset\")\n",
    "        display(df.info())\n",
    "        print('DataFrame Description : \\n')\n",
    "        display(df.describe().T)\n",
    "\n",
    "Explore(x)"
   ]
  },
  {
   "cell_type": "code",
   "execution_count": 148,
   "metadata": {},
   "outputs": [
    {
     "data": {
      "text/html": [
       "<div>\n",
       "<style scoped>\n",
       "    .dataframe tbody tr th:only-of-type {\n",
       "        vertical-align: middle;\n",
       "    }\n",
       "\n",
       "    .dataframe tbody tr th {\n",
       "        vertical-align: top;\n",
       "    }\n",
       "\n",
       "    .dataframe thead th {\n",
       "        text-align: right;\n",
       "    }\n",
       "</style>\n",
       "<table border=\"1\" class=\"dataframe\">\n",
       "  <thead>\n",
       "    <tr style=\"text-align: right;\">\n",
       "      <th></th>\n",
       "      <th>Biến độc lập</th>\n",
       "      <th>Hệ số tương quan Pearson với biến mục tiêu</th>\n",
       "    </tr>\n",
       "  </thead>\n",
       "  <tbody>\n",
       "    <tr>\n",
       "      <th>2</th>\n",
       "      <td>Loại hình nhà ở</td>\n",
       "      <td>0.294416</td>\n",
       "    </tr>\n",
       "    <tr>\n",
       "      <th>4</th>\n",
       "      <td>Số phòng ngủ</td>\n",
       "      <td>0.227995</td>\n",
       "    </tr>\n",
       "    <tr>\n",
       "      <th>5</th>\n",
       "      <td>Diện tích</td>\n",
       "      <td>0.145089</td>\n",
       "    </tr>\n",
       "    <tr>\n",
       "      <th>1</th>\n",
       "      <td>Phường</td>\n",
       "      <td>-0.057552</td>\n",
       "    </tr>\n",
       "    <tr>\n",
       "      <th>0</th>\n",
       "      <td>Quận</td>\n",
       "      <td>0.051610</td>\n",
       "    </tr>\n",
       "    <tr>\n",
       "      <th>3</th>\n",
       "      <td>Giấy tờ pháp lý</td>\n",
       "      <td>0.018013</td>\n",
       "    </tr>\n",
       "  </tbody>\n",
       "</table>\n",
       "</div>"
      ],
      "text/plain": [
       "      Biến độc lập  Hệ số tương quan Pearson với biến mục tiêu\n",
       "2  Loại hình nhà ở                                    0.294416\n",
       "4     Số phòng ngủ                                    0.227995\n",
       "5        Diện tích                                    0.145089\n",
       "1           Phường                                   -0.057552\n",
       "0             Quận                                    0.051610\n",
       "3  Giấy tờ pháp lý                                    0.018013"
      ]
     },
     "execution_count": 148,
     "metadata": {},
     "output_type": "execute_result"
    }
   ],
   "source": [
    "target = x['Giá']\n",
    "features = list(set(list(x.columns)) - set(target))\n",
    "pd.DataFrame(x.corr().iloc[1:,0])\n",
    "correlation = x.corr().iloc[1:,0].values\n",
    "column_selected = [i for i in x.columns if (i != 'Giá')]\n",
    "column_selected\n",
    "features_importances_corr = pd.DataFrame({'Biến độc lập': x[column_selected].columns[0:len(x[column_selected])-1], 'Hệ số tương quan Pearson với biến mục tiêu': correlation})\n",
    "features_importances_corr.reindex(features_importances_corr['Hệ số tương quan Pearson với biến mục tiêu'].abs().sort_values(ascending=False).index)"
   ]
  },
  {
   "cell_type": "code",
   "execution_count": 149,
   "metadata": {},
   "outputs": [
    {
     "data": {
      "text/plain": [
       "<Axes: ylabel='Biến độc lập'>"
      ]
     },
     "execution_count": 149,
     "metadata": {},
     "output_type": "execute_result"
    },
    {
     "data": {
      "image/png": "[encoded data removed]",
      "text/plain": [
       "<Figure size 800x300 with 1 Axes>"
      ]
     },
     "metadata": {},
     "output_type": "display_data"
    }
   ],
   "source": [
    "features_importances_corr.sort_values(by = ['Hệ số tương quan Pearson với biến mục tiêu']).plot(figsize=(8,3), x=\"Biến độc lập\", y = \"Hệ số tương quan Pearson với biến mục tiêu\", kind=\"barh\")"
   ]
  },
  {
   "cell_type": "code",
   "execution_count": 151,
   "metadata": {},
   "outputs": [],
   "source": [
    "target = ['Giá']\n",
    "features = list(set(list(x.columns)) - set(target))"
   ]
  },
  {
   "cell_type": "code",
   "execution_count": 154,
   "metadata": {},
   "outputs": [],
   "source": [
    "X = x[features].values\n",
    "y = x[target].values\n",
    "X_train, X_test, y_train, y_test = train_test_split(X, y, test_size = 0.3, random_state=42)"
   ]
  },
  {
   "cell_type": "code",
   "execution_count": 124,
   "metadata": {},
   "outputs": [
    {
     "name": "stderr",
     "output_type": "stream",
     "text": [
      "C:\\Users\\kateo\\AppData\\Local\\Temp\\ipykernel_30880\\2159648690.py:5: DataConversionWarning: A column-vector y was passed when a 1d array was expected. Please change the shape of y to (n_samples,), for example using ravel().\n",
      "  rf.fit(X_train,y_train)\n"
     ]
    }
   ],
   "source": [
    "from sklearn.ensemble import RandomForestRegressor\n",
    "from sklearn.model_selection import train_test_split\n",
    "from sklearn.metrics import accuracy_score\n",
    "rf = RandomForestRegressor()\n",
    "rf.fit(X_train,y_train)\n",
    "rf_y_pred = rf.predict(X_test)"
   ]
  },
  {
   "cell_type": "code",
   "execution_count": 125,
   "metadata": {},
   "outputs": [],
   "source": [
    "import math\n",
    "from sklearn.metrics import mean_absolute_error, mean_absolute_percentage_error\n",
    "def evaluate_performance(test,prediction):\n",
    "    RMSE = round(math.sqrt(mean_squared_error(test,prediction)),2)\n",
    "    MSE = round(mean_squared_error(test,prediction),2)\n",
    "    MAPE = round(mean_absolute_percentage_error(test,prediction),2)\n",
    "    MAE = round(mean_absolute_error(test,prediction),2)\n",
    "    R2 = round(r2_score(test,prediction),2)\n",
    "    indicators = ['RMSE','MSE','MAPE','MAE','R2']\n",
    "    results = [RMSE,MSE,MAPE,MAE,R2]\n",
    "    return pd.DataFrame({'Các chỉ số':indicators,'Kết quả':results})"
   ]
  },
  {
   "cell_type": "code",
   "execution_count": 126,
   "metadata": {},
   "outputs": [],
   "source": [
    "perf1 = evaluate_performance(y_test,rf_y_pred)"
   ]
  },
  {
   "cell_type": "code",
   "execution_count": 127,
   "metadata": {},
   "outputs": [
    {
     "data": {
      "text/html": [
       "<div>\n",
       "<style scoped>\n",
       "    .dataframe tbody tr th:only-of-type {\n",
       "        vertical-align: middle;\n",
       "    }\n",
       "\n",
       "    .dataframe tbody tr th {\n",
       "        vertical-align: top;\n",
       "    }\n",
       "\n",
       "    .dataframe thead th {\n",
       "        text-align: right;\n",
       "    }\n",
       "</style>\n",
       "<table border=\"1\" class=\"dataframe\">\n",
       "  <thead>\n",
       "    <tr style=\"text-align: right;\">\n",
       "      <th></th>\n",
       "      <th>Biến độc lập</th>\n",
       "      <th>Hệ số hồi quy</th>\n",
       "    </tr>\n",
       "  </thead>\n",
       "  <tbody>\n",
       "    <tr>\n",
       "      <th>0</th>\n",
       "      <td>Loại hình nhà ở</td>\n",
       "      <td>23.108709</td>\n",
       "    </tr>\n",
       "    <tr>\n",
       "      <th>1</th>\n",
       "      <td>Quận</td>\n",
       "      <td>0.871498</td>\n",
       "    </tr>\n",
       "    <tr>\n",
       "      <th>2</th>\n",
       "      <td>Số phòng ngủ</td>\n",
       "      <td>8.557410</td>\n",
       "    </tr>\n",
       "    <tr>\n",
       "      <th>3</th>\n",
       "      <td>Phường</td>\n",
       "      <td>-0.055415</td>\n",
       "    </tr>\n",
       "    <tr>\n",
       "      <th>4</th>\n",
       "      <td>Diện tích</td>\n",
       "      <td>0.060822</td>\n",
       "    </tr>\n",
       "    <tr>\n",
       "      <th>5</th>\n",
       "      <td>Giấy tờ pháp lý</td>\n",
       "      <td>10.523737</td>\n",
       "    </tr>\n",
       "  </tbody>\n",
       "</table>\n",
       "</div>"
      ],
      "text/plain": [
       "      Biến độc lập  Hệ số hồi quy\n",
       "0  Loại hình nhà ở      23.108709\n",
       "1             Quận       0.871498\n",
       "2     Số phòng ngủ       8.557410\n",
       "3           Phường      -0.055415\n",
       "4        Diện tích       0.060822\n",
       "5  Giấy tờ pháp lý      10.523737"
      ]
     },
     "execution_count": 127,
     "metadata": {},
     "output_type": "execute_result"
    }
   ],
   "source": [
    "from sklearn.linear_model import LinearRegression\n",
    "import numpy as np\n",
    "lr = LinearRegression()\n",
    "lr.fit(X_train,y_train)\n",
    "lr_y_pred = lr.predict(X_test)\n",
    "coefficients = lr.coef_\n",
    "pd.DataFrame({'Biến độc lập':features, 'Hệ số hồi quy':coefficients[0]})"
   ]
  },
  {
   "cell_type": "code",
   "execution_count": 128,
   "metadata": {},
   "outputs": [],
   "source": [
    "perf2 = evaluate_performance(y_test,lr_y_pred)"
   ]
  },
  {
   "cell_type": "code",
   "execution_count": 129,
   "metadata": {},
   "outputs": [],
   "source": [
    "xg = XGBRegressor()\n",
    "xg.fit(X_train,y_train)\n",
    "xg_y_pred=xg.predict(X_test)\n"
   ]
  },
  {
   "cell_type": "code",
   "execution_count": 130,
   "metadata": {},
   "outputs": [],
   "source": [
    "perf3 = evaluate_performance(y_test,xg_y_pred)"
   ]
  },
  {
   "cell_type": "code",
   "execution_count": 131,
   "metadata": {},
   "outputs": [
    {
     "name": "stderr",
     "output_type": "stream",
     "text": [
      "c:\\Users\\kateo\\AppData\\Local\\Programs\\Python\\Python310\\lib\\site-packages\\sklearn\\ensemble\\_voting.py:597: DataConversionWarning: A column-vector y was passed when a 1d array was expected. Please change the shape of y to (n_samples, ), for example using ravel().\n",
      "  y = column_or_1d(y, warn=True)\n"
     ]
    }
   ],
   "source": [
    "from sklearn.ensemble import VotingRegressor\n",
    "vr = VotingRegressor([('lr', lr), ('xg', xg)])\n",
    "vr.fit(X_train, y_train)\n",
    "vr_y_pred = vr.predict(X_test)"
   ]
  },
  {
   "cell_type": "code",
   "execution_count": 134,
   "metadata": {},
   "outputs": [],
   "source": [
    "perf4 = evaluate_performance(y_test,vr_y_pred)"
   ]
  }
 ],
 "metadata": {
  "kernelspec": {
   "display_name": "Python 3",
   "language": "python",
   "name": "python3"
  },
  "language_info": {
   "codemirror_mode": {
    "name": "ipython",
    "version": 3
   },
   "file_extension": ".py",
   "mimetype": "text/x-python",
   "name": "python",
   "nbconvert_exporter": "python",
   "pygments_lexer": "ipython3",
   "version": "3.10.6"
  },
  "orig_nbformat": 4,
  "vscode": {
   "interpreter": {
    "hash": "d7f3a00c2d8941fd93b6a125716b42eab389f49e107c31999b19a3026134f0bd"
   }
  }
 },
 "nbformat": 4,
 "nbformat_minor": 2
}
